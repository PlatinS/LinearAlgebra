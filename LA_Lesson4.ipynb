{
 "cells": [
  {
   "cell_type": "markdown",
   "metadata": {},
   "source": [
    "### Урок 6"
   ]
  },
  {
   "cell_type": "markdown",
   "metadata": {},
   "source": [
    "__1.__ Решить систему уравнений методом Гаусса:\n",
    "\n",
    "$$\\begin{cases}\n",
    "x_{1}+x_{2}-x_{3}-2x_{4}=0, \\\\\n",
    "2x_{1}+x_{2}-x_{3}+x_{4}=-2, \\\\\n",
    "x_{1}+x_{2}-3x_{3}+x_{4}=4.\n",
    "\\end{cases}$$"
   ]
  },
  {
   "cell_type": "markdown",
   "metadata": {},
   "source": [
    "__Решение__"
   ]
  },
  {
   "cell_type": "markdown",
   "metadata": {},
   "source": [
    "Запишем расширенную матрицу системы:\n",
    "\n",
    "$$\\begin{pmatrix}\n",
    "\\left.\\begin{matrix}\n",
    "1 & 1 & -1 & -2\\\\ \n",
    "2 & 1 & -1 &  1 \\\\ \n",
    "1 & 1 & -3 &  1\n",
    "\\end{matrix}\\right|\n",
    "\\begin{matrix}\n",
    " 0\\\\ \n",
    "-2\\\\\n",
    " 4\n",
    "\\end{matrix}\n",
    "\\end{pmatrix}.$$"
   ]
  },
  {
   "cell_type": "markdown",
   "metadata": {},
   "source": [
    "Вычтем из второй строки удвоенную первую и из третьей первую:\n",
    "\n",
    "$$\\begin{pmatrix}\n",
    "\\left.\\begin{matrix}\n",
    "1 &  1 & -1 & -2\\\\ \n",
    "0 & -1 &  1 &  5 \\\\ \n",
    "0 &  0 & -2 &  3\n",
    "\\end{matrix}\\right|\n",
    "\\begin{matrix}\n",
    " 0\\\\ \n",
    "-2\\\\\n",
    " 4\n",
    "\\end{matrix}\n",
    "\\end{pmatrix}.$$"
   ]
  },
  {
   "cell_type": "markdown",
   "metadata": {},
   "source": [
    "Получившаяся матрица соответствует системе:\n",
    "\n",
    "$$\\begin{cases}\n",
    "x_{1}+x_{2}-x_{3}-2x_{4}=0, \\\\\n",
    "~~~~-x_{2}+x_{3}+5x_{4}=-2, \\\\\n",
    "~~~~~~~~~~~-2x_{3}+3x_{4}=4\n",
    "\\end{cases}$$"
   ]
  },
  {
   "cell_type": "markdown",
   "metadata": {},
   "source": [
    "Число уравнений меньше числа неизвестных, следовательно система имеет бесконечное число решений.   \n",
    "Найдём общее решение системы, приняв $x_4=c$  \n",
    "   \n",
    "$-2x_3 +3c = 4 \\; \\Leftrightarrow \\; x_3 = \\frac{3c-4}{2}=1.5c-2$   \n",
    "$-x_2 + 1.5c - 2 + 5c = -2 \\; \\Leftrightarrow \\; x_2 = 6.5c$   \n",
    "$x_1 + 6.5c - (1.5c-2) - 2c = 0 \\; \\Leftrightarrow \\; x_1 = -3c - 2$"
   ]
  },
  {
   "cell_type": "markdown",
   "metadata": {},
   "source": [
    "Частное решение при $c=0$:   \n",
    "   \n",
    "$ x_1 = -2; x_2 = 0; x_3 = -2; x_4=0$"
   ]
  },
  {
   "cell_type": "code",
   "execution_count": 1,
   "metadata": {},
   "outputs": [],
   "source": [
    "import numpy as np"
   ]
  },
  {
   "cell_type": "code",
   "execution_count": 2,
   "metadata": {},
   "outputs": [],
   "source": [
    "def solving_sle(A, b, n):\n",
    "    rank_A = np.linalg.matrix_rank(A)\n",
    "    rank_Ab = np.linalg.matrix_rank(np.hstack((A, b)))\n",
    "    if  rank_A == rank_Ab == n:\n",
    "        return 'Cистема совместна и определена. Имеет единственное решение'\n",
    "    elif (rank_A == rank_Ab) and (rank_A < n):\n",
    "        return 'Cистема совместна и имеет бесконечное количество решений'\n",
    "    elif rank_A < rank_Ab:\n",
    "        return 'Cистема несовместна. Не имеет решений.'"
   ]
  },
  {
   "cell_type": "code",
   "execution_count": 3,
   "metadata": {},
   "outputs": [
    {
     "name": "stdout",
     "output_type": "stream",
     "text": [
      "Cистема совместна и имеет бесконечное количество решений\n"
     ]
    }
   ],
   "source": [
    "A = np.array([[1, 1, -1, -2], [2, 1, -1, 1], [1, 1, -3, 1]])\n",
    "b = np.array([0, -2, 4]).reshape(-1, 1)\n",
    "n = 4  # число неизвестных\n",
    "print(solving_sle(A, b, n))"
   ]
  },
  {
   "cell_type": "markdown",
   "metadata": {},
   "source": [
    "__2.__ Проверить на совместность и выяснить, сколько решений будет иметь система линейных уравнений:\n",
    "\n",
    "   а) $\\begin{cases}\n",
    "3x_{1}-x_{2}+x_{3}=4, \\\\\n",
    "2x_{1}-5x_{2}-3x_{3}=-17, \\\\\n",
    "x_{1}+x_{2}-x_{3}=0;\n",
    "\\end{cases}$\n",
    "    \n",
    "   б) $\\begin{cases}\n",
    "2x_{1}-4x_{2}+6x_{3}=1, \\\\\n",
    "x_{1}-2x_{2}+3x_{3}=-2, \\\\\n",
    "3x_{1}-6x_{2}+9x_{3}=5;\n",
    "\\end{cases}$\n",
    "    \n",
    "   в) $\\begin{cases}\n",
    "x_{1}+2x_{2}+5x_{3}=4, \\\\\n",
    "3x_{1}+x_{2}-8x_{3}=-2. \n",
    "\\end{cases}$"
   ]
  },
  {
   "cell_type": "markdown",
   "metadata": {},
   "source": [
    "__Решение__"
   ]
  },
  {
   "cell_type": "code",
   "execution_count": 4,
   "metadata": {},
   "outputs": [
    {
     "name": "stdout",
     "output_type": "stream",
     "text": [
      "Cистема совместна и определена. Имеет единственное решение\n"
     ]
    }
   ],
   "source": [
    "# а)\n",
    "A = np.array([[3, -1, 1], [2, -5, -3], [1, 1, -1]])\n",
    "b = np.array([4, -17, 0]).reshape(-1, 1)\n",
    "print(solving_sle(A, b, 3))"
   ]
  },
  {
   "cell_type": "code",
   "execution_count": 5,
   "metadata": {},
   "outputs": [
    {
     "name": "stdout",
     "output_type": "stream",
     "text": [
      "Cистема несовместна. Не имеет решений.\n"
     ]
    }
   ],
   "source": [
    "# б)\n",
    "A = np.array([[2, -4, 6], [1, -2, 3], [3, -6, 9]])\n",
    "b = np.array([1, -2, 5]).reshape(-1, 1)\n",
    "print(solving_sle(A, b, 3))"
   ]
  },
  {
   "cell_type": "code",
   "execution_count": 6,
   "metadata": {},
   "outputs": [
    {
     "name": "stdout",
     "output_type": "stream",
     "text": [
      "Cистема совместна и имеет бесконечное количество решений\n"
     ]
    }
   ],
   "source": [
    "# в)\n",
    "A = np.array([[1, 2, 5], [3, 1, -8]])\n",
    "b = np.array([4, -2]).reshape(-1, 1)\n",
    "print(solving_sle(A, b, 3))"
   ]
  },
  {
   "cell_type": "markdown",
   "metadata": {},
   "source": [
    "__3.__ Проверить на совместность и выяснить, сколько решений будет иметь система линейных уравнений, заданная расширенной матрицей\n",
    "\n",
    "$$\\tilde{A}=\\begin{pmatrix}\n",
    "\\left.\\begin{matrix}\n",
    "1 & 3 & -2 & 4\\\\ \n",
    "0 & 5 & 0 & 1\\\\ \n",
    "0 & 0 & 3 & 0\\\\ \n",
    "0 & 0 & 0 & 2\n",
    "\\end{matrix}\\right|\n",
    "\\begin{matrix}\n",
    "3\\\\ \n",
    "2\\\\\n",
    "4\\\\\n",
    "1\n",
    "\\end{matrix}\n",
    "\\end{pmatrix}.$$"
   ]
  },
  {
   "cell_type": "markdown",
   "metadata": {},
   "source": [
    "__Решение__"
   ]
  },
  {
   "cell_type": "code",
   "execution_count": 7,
   "metadata": {},
   "outputs": [
    {
     "name": "stdout",
     "output_type": "stream",
     "text": [
      "Cистема совместна и определена. Имеет единственное решение\n"
     ]
    }
   ],
   "source": [
    "A = np.array([[1, 3, -2, 4], [0, 5, 0, 1], [0, 0, 3, 0], [0, 0, 0, 2]])\n",
    "b = np.array([3, 2, 4, 1]).reshape(-1, 1)\n",
    "print(solving_sle(A, b, 4))"
   ]
  },
  {
   "cell_type": "markdown",
   "metadata": {},
   "source": [
    "__4.__ Дана система линейных уравнений, заданная расширенной матрицей\n",
    "\n",
    "$$\\tilde{A}=\\begin{pmatrix}\n",
    "\\left.\\begin{matrix}\n",
    "1 & 2 & 3\\\\ \n",
    "4 & 5 & 6\\\\ \n",
    "7 & 8 & 9\n",
    "\\end{matrix}\\right|\n",
    "\\begin{matrix}\n",
    "a\\\\ \n",
    "b\\\\\n",
    "c\n",
    "\\end{matrix}\n",
    "\\end{pmatrix}.$$\n",
    "\n",
    "Найти соотношение между параметрами $a$, $b$ и $c$, при которых система является несовместной."
   ]
  },
  {
   "cell_type": "markdown",
   "metadata": {},
   "source": [
    "__Решение__"
   ]
  },
  {
   "cell_type": "markdown",
   "metadata": {},
   "source": [
    "Вычтем из второй строки первую строку, умноженную на 4:   \n",
    "   \n",
    "$\\begin{pmatrix}\n",
    "\\left.\\begin{matrix}\n",
    "1 &  2 &  3\\\\ \n",
    "0 & -3 & -6\\\\ \n",
    "7 & 8 & 9\n",
    "\\end{matrix}\\right|\n",
    "\\begin{matrix}\n",
    "a\\\\ \n",
    "b-4a\\\\\n",
    "c\n",
    "\\end{matrix}\n",
    "\\end{pmatrix}$"
   ]
  },
  {
   "cell_type": "markdown",
   "metadata": {},
   "source": [
    "Вычтем из третьей строки первую строку, умноженную на 7:   \n",
    "   \n",
    "$\\begin{pmatrix}\n",
    "\\left.\\begin{matrix}\n",
    "1 &  2 &  3\\\\ \n",
    "0 & -3 & -6\\\\ \n",
    "0 & -6 & -12\n",
    "\\end{matrix}\\right|\n",
    "\\begin{matrix}\n",
    "a\\\\ \n",
    "b-4a\\\\\n",
    "c-7a\n",
    "\\end{matrix}\n",
    "\\end{pmatrix}$"
   ]
  },
  {
   "cell_type": "markdown",
   "metadata": {},
   "source": [
    "Прибавим из третьей строки вторую строку, умноженную на -2:   \n",
    "$-2\\cdot (b-4a) + (c-7a) = -2b + 8a + c - 7a = a - 2b + c$   \n",
    "   \n",
    "$\\begin{pmatrix}\n",
    "\\left.\\begin{matrix}\n",
    "1 &  2 &  3\\\\ \n",
    "0 & -3 & -6\\\\ \n",
    "0 &  0 &  0\n",
    "\\end{matrix}\\right|\n",
    "\\begin{matrix}\n",
    "a\\\\ \n",
    "b-4a\\\\\n",
    "a-2b+c\n",
    "\\end{matrix}\n",
    "\\end{pmatrix}$"
   ]
  },
  {
   "cell_type": "markdown",
   "metadata": {},
   "source": [
    "Если $(a-2b+c) \\neq 0$, то $rank \\tilde A=3$, в то время как $rank A=2$. Это означает, что система в этом случае несовместна."
   ]
  },
  {
   "cell_type": "markdown",
   "metadata": {},
   "source": [
    "### Урок 7"
   ]
  },
  {
   "cell_type": "markdown",
   "metadata": {},
   "source": [
    "__1.__ Решить систему уравнений методом Крамера:\n",
    "\n",
    "   а) $\\begin{cases}\n",
    "x_{1}-2x_{2}=1 \\\\\n",
    "3x_{1}-4x_{2}=7\n",
    "\\end{cases}$"
   ]
  },
  {
   "cell_type": "markdown",
   "metadata": {},
   "source": [
    "__Решение__"
   ]
  },
  {
   "cell_type": "code",
   "execution_count": 8,
   "metadata": {},
   "outputs": [
    {
     "name": "stdout",
     "output_type": "stream",
     "text": [
      "[[ 1 -2]\n",
      " [ 3 -4]]\n",
      "[[1]\n",
      " [7]]\n",
      "[[ 1 -2]\n",
      " [ 7 -4]]\n",
      "[[1 1]\n",
      " [3 7]]\n"
     ]
    }
   ],
   "source": [
    "A = np.array([[1, -2], [3, -4]])\n",
    "b = np.array([[1, 7]]).reshape(-1, 1)\n",
    "A1 = np.hstack((b, A[:,1].reshape(-1, 1)))\n",
    "A2 = np.hstack((A[:,:-1].reshape(-1, 1), b))\n",
    "print(f'{A}\\n{b}\\n{A1}\\n{A2}')"
   ]
  },
  {
   "cell_type": "code",
   "execution_count": 9,
   "metadata": {},
   "outputs": [
    {
     "name": "stdout",
     "output_type": "stream",
     "text": [
      "x1 = 5.00, x2 = 2.00\n"
     ]
    }
   ],
   "source": [
    "det_A  = np.linalg.det(A)\n",
    "det_A1 = np.linalg.det(A1)\n",
    "det_A2 = np.linalg.det(A2)\n",
    "x_1 = det_A1 / det_A\n",
    "x_2 = det_A2 / det_A\n",
    "print(f'x1 = {x_1:.2f}, x2 = {x_2:.2f}')"
   ]
  },
  {
   "cell_type": "code",
   "execution_count": 10,
   "metadata": {},
   "outputs": [
    {
     "name": "stdout",
     "output_type": "stream",
     "text": [
      "x1 = 5.00, x2 = 2.00\n"
     ]
    }
   ],
   "source": [
    "# Проверка\n",
    "x1, x2 = np.linalg.solve(A, b)\n",
    "print(f'x1 = {x1[0]:.2f}, x2 = {x2[0]:.2f}')"
   ]
  },
  {
   "cell_type": "markdown",
   "metadata": {},
   "source": [
    "__1.__ Решить систему уравнений методом Крамера:   \n",
    "б)   $\\begin{cases}\n",
    "2x_{1}-x_{2}+5x_{3}=10 \\\\\n",
    "x_{1}+x_{2}-3x_{3}=-2 \\\\\n",
    "2x_{1}+4x_{2}+x_{3}=1\n",
    "\\end{cases}$"
   ]
  },
  {
   "cell_type": "code",
   "execution_count": 11,
   "metadata": {},
   "outputs": [
    {
     "name": "stdout",
     "output_type": "stream",
     "text": [
      "[[ 2 -1  5]\n",
      " [ 1  1 -3]\n",
      " [ 2  4  1]]\n",
      "[[10]\n",
      " [-2]\n",
      " [ 1]]\n",
      "[[10 -1  5]\n",
      " [-2  1 -3]\n",
      " [ 1  4  1]]\n",
      "[[ 2 10  5]\n",
      " [ 1 -2 -3]\n",
      " [ 2  1  1]]\n",
      "[[ 2 -1 10]\n",
      " [ 1  1 -2]\n",
      " [ 2  4  1]]\n"
     ]
    }
   ],
   "source": [
    "A = np.array([[2, -1, 5], [1, 1, -3], [2, 4, 1]])\n",
    "b = np.array([10, -2, 1]).reshape(-1, 1)\n",
    "A1 = np.hstack((b, A[:,1:]))\n",
    "A2 = np.hstack((A[:,:1], b, A[:,-1:]))\n",
    "A3 = np.hstack((A[:,:-1], b))\n",
    "print(f'{A}\\n{b}\\n{A1}\\n{A2}\\n{A3}')"
   ]
  },
  {
   "cell_type": "code",
   "execution_count": 12,
   "metadata": {},
   "outputs": [
    {
     "name": "stdout",
     "output_type": "stream",
     "text": [
      "x1 = 2.00, x2 = -1.00, , x3 = 1.00\n"
     ]
    }
   ],
   "source": [
    "det_A = np.linalg.det(A)\n",
    "det_A1 = np.linalg.det(A1)\n",
    "det_A2 = np.linalg.det(A2)\n",
    "det_A3 = np.linalg.det(A3)\n",
    "x_1 = det_A1 / det_A\n",
    "x_2 = det_A2 / det_A\n",
    "x_3 = det_A3 / det_A\n",
    "print(f'x1 = {x_1:.2f}, x2 = {x_2:.2f}, , x3 = {x_3:.2f}')"
   ]
  },
  {
   "cell_type": "code",
   "execution_count": 13,
   "metadata": {},
   "outputs": [
    {
     "name": "stdout",
     "output_type": "stream",
     "text": [
      "x1 = 2.00, x2 = -1.00, x3 = 1.00\n"
     ]
    }
   ],
   "source": [
    "# Проверка\n",
    "x1, x2, x3 = np.linalg.solve(A, b)\n",
    "print(f'x1 = {x1[0]:.2f}, x2 = {x2[0]:.2f}, x3 = {x3[0]:.2f}')"
   ]
  },
  {
   "cell_type": "markdown",
   "metadata": {},
   "source": [
    "__2.__ Найти $L$-матрицу $LU$-разложения для матрицы коэффициентов:\n",
    "\n",
    "   а)$$\\begin{pmatrix}\n",
    "1 & 2 & 4 \\\\ \n",
    "2 & 9 & 12 \\\\ \n",
    "3 & 26 & 30\n",
    "\\end{pmatrix}$$\n",
    "    \n",
    "   б)$$\\begin{pmatrix}\n",
    "1 & 1 & 2 & 4\\\\ \n",
    "2 & 5 & 8 & 9\\\\ \n",
    "3 & 18 & 29 & 18\\\\\n",
    "4 & 22 & 53 & 33\n",
    "\\end{pmatrix}$$"
   ]
  },
  {
   "cell_type": "markdown",
   "metadata": {},
   "source": [
    "__Решение__"
   ]
  },
  {
   "cell_type": "code",
   "execution_count": 14,
   "metadata": {},
   "outputs": [
    {
     "data": {
      "text/plain": [
       "array([[1.  , 0.  , 0.  ],\n",
       "       [0.67, 1.  , 0.  ],\n",
       "       [0.33, 0.8 , 1.  ]])"
      ]
     },
     "execution_count": 14,
     "metadata": {},
     "output_type": "execute_result"
    }
   ],
   "source": [
    "import scipy.linalg\n",
    "np.set_printoptions(precision=2, suppress=True)\n",
    "# а)\n",
    "A = np.array([[1,2,4],[2,9,12],[3,26,30]])\n",
    "P, L, U = scipy.linalg.lu(A)\n",
    "L"
   ]
  },
  {
   "cell_type": "code",
   "execution_count": 15,
   "metadata": {},
   "outputs": [
    {
     "data": {
      "text/plain": [
       "array([[ 3., 26., 30.],\n",
       "       [ 2.,  9., 12.],\n",
       "       [ 1.,  2.,  4.]])"
      ]
     },
     "execution_count": 15,
     "metadata": {},
     "output_type": "execute_result"
    }
   ],
   "source": [
    "# Проверка\n",
    "L.dot(U)"
   ]
  },
  {
   "cell_type": "code",
   "execution_count": 16,
   "metadata": {},
   "outputs": [
    {
     "data": {
      "text/plain": [
       "array([[ 1.  ,  0.  ,  0.  ,  0.  ],\n",
       "       [ 0.5 ,  1.  ,  0.  ,  0.  ],\n",
       "       [ 0.75, -0.25,  1.  ,  0.  ],\n",
       "       [ 0.25,  0.75, -0.17,  1.  ]])"
      ]
     },
     "execution_count": 16,
     "metadata": {},
     "output_type": "execute_result"
    }
   ],
   "source": [
    "# б)\n",
    "A = np.array([[1,1,2,4],[2,5,8,9],[3,18,29,18],[4,22,53,33]])\n",
    "P, L, U = scipy.linalg.lu(A)\n",
    "L"
   ]
  },
  {
   "cell_type": "code",
   "execution_count": 17,
   "metadata": {},
   "outputs": [
    {
     "data": {
      "text/plain": [
       "array([[ 4., 22., 53., 33.],\n",
       "       [ 2.,  5.,  8.,  9.],\n",
       "       [ 3., 18., 29., 18.],\n",
       "       [ 1.,  1.,  2.,  4.]])"
      ]
     },
     "execution_count": 17,
     "metadata": {},
     "output_type": "execute_result"
    }
   ],
   "source": [
    "# Проверка\n",
    "L.dot(U)"
   ]
  },
  {
   "cell_type": "markdown",
   "metadata": {},
   "source": [
    "__3.__ Решить систему линейных уравнений методом $LU$-разложения\n",
    "\n",
    "$$\\begin{cases}\n",
    "2x_{1}+x_{2}+3x_{3}=1 \\\\\n",
    "11x_{1}+7x_{2}+5x_{3}=-6 \\\\\n",
    "9x_{1}+8x_{2}+4x_{3}=-5\n",
    "\\end{cases}$$"
   ]
  },
  {
   "cell_type": "markdown",
   "metadata": {},
   "source": [
    "__Решение__"
   ]
  },
  {
   "cell_type": "markdown",
   "metadata": {},
   "source": [
    "Матрица коэффициентов $A$ будет иметь вид\n",
    "\n",
    "$$\\begin{pmatrix}\n",
    "2 & 1 & 3 \\\\ \n",
    "11 & 7 & 5 \\\\ \n",
    "9 & 8 & 4\n",
    "\\end{pmatrix}.$$"
   ]
  },
  {
   "cell_type": "markdown",
   "metadata": {},
   "source": [
    "Начнем прямой ход метода Гаусса. Домножим первую строку на $\\frac{11}{2}$ и вычтем ее из второго уравнения. При этом запишем в матрицу $L$ на место элемента $l_{21}$ значение $\\frac{11}{2}$. Затем нам нужно вычесть из третьего уравнения первое, домноженное на $\\frac{9}{2}$. Значит, в матрицу $L$ запишем $l_{31}=\\frac{9}{2}$. \n",
    "\n",
    "Матрица коэффициентов будет иметь вид\n",
    "\n",
    "$$\\begin{pmatrix}\n",
    "2 & 1 & -1 \\\\ \n",
    "0 & \\frac{3}{2} & \\frac{-23}{2} \\\\ \n",
    "0 & \\frac{7}{2} & \\frac{-19}{2}\n",
    "\\end{pmatrix},$$\n",
    "\n",
    "а матрица $L$ —\n",
    "\n",
    "$$\\begin{pmatrix}\n",
    "1 & 0 & 0 \\\\ \n",
    "\\frac{11}{2} & 1 & 0 \\\\ \n",
    "\\frac{9}{2} & l_{32} & 1\n",
    "\\end{pmatrix}.$$"
   ]
  },
  {
   "cell_type": "markdown",
   "metadata": {},
   "source": [
    "Домножим вторую строку на $\\frac{7}{3}$ и вычтем ее из третьего уравнения. При этом запишем в матрицу $L$ на место элемента $l_{32}$ значение $\\frac{7}{3}$.\n",
    "\n",
    "Матрица коэффициентов будет иметь вид:\n",
    "\n",
    "$$\\begin{pmatrix}\n",
    "2 & 1 & -1 \\\\ \n",
    "0 & \\frac{3}{2} & \\frac{-23}{2} \\\\ \n",
    "0 & 0 & \\frac{52}{3}\n",
    "\\end{pmatrix},$$\n",
    "\n",
    "а матрица $L$ —\n",
    "\n",
    "$$\\begin{pmatrix}\n",
    "1 & 0 & 0 \\\\ \n",
    "\\frac{11}{2} & 1 & 0 \\\\ \n",
    "\\frac{9}{2} & \\frac{7}{3} & 1\n",
    "\\end{pmatrix}.$$"
   ]
  },
  {
   "cell_type": "markdown",
   "metadata": {},
   "source": [
    "Решим теперь систему \n",
    "\n",
    "$$Ly=b:$$\n",
    "\n",
    "$$\\begin{cases}\n",
    "y_{1}=1, \\\\\n",
    "\\frac{11}{2}y_{1}+y_{2}=-6, \\\\\n",
    "\\frac{9}{2}y_{1}+\\frac{7}{3}y_{2}+y_{3}=-5.\n",
    "\\end{cases}$$\n",
    "\n",
    "$$y_{1} = 1,$$\n",
    "$$y_{2}=-\\frac{23}{2},$$\n",
    "$$y_{3}=-5 - \\frac{9}{2} + \\frac{23}{2}\\cdot \\frac{7}{3}=\\frac{52}{3}.$$"
   ]
  },
  {
   "cell_type": "markdown",
   "metadata": {},
   "source": [
    "И затем систему\n",
    "\n",
    "$$Ux=y:$$\n",
    "\n",
    "$$\\begin{cases}\n",
    "2x_{1}+x_{2}+3x_{3} = 1, \\\\\n",
    "\\frac{3}{2}x_{2}-\\frac{23}{2}x_{3}=-\\frac{23}{2}, \\\\\n",
    "\\frac{52}{3}x_{3}=\\frac{52}{3}.\n",
    "\\end{cases}$$\n",
    "\n",
    "$$x_{3}=1,$$\n",
    "$$x_{2}=0,$$\n",
    "$$x_{1}=-1.$$"
   ]
  },
  {
   "cell_type": "markdown",
   "metadata": {},
   "source": [
    "Произведем проверку, подставив полученные значения переменных в исходную систему:\n",
    "\n",
    "$$\\begin{cases}\n",
    " 2\\cdot(-1)+1\\cdot 0 +3\\cdot 1 =  1, \\\\\n",
    "11\\cdot(-1)+7\\cdot 0 +5\\cdot 1 = -6, \\\\\n",
    " 9\\cdot(-1)+8\\cdot 0 +4\\cdot 1 = -5 .\n",
    "\\end{cases}$$\n",
    "\n",
    "Таким образом, найденное решение верно."
   ]
  },
  {
   "cell_type": "markdown",
   "metadata": {},
   "source": [
    "---"
   ]
  },
  {
   "cell_type": "markdown",
   "metadata": {},
   "source": [
    "__4.__ Решить систему линейных уравнений методом Холецкого\n",
    "\n",
    "$$\\begin{cases}\n",
    "81x_{1}-45x_{2}+45x_{3}=531 \\\\\n",
    "-45x_{1}+50x_{2}-15x_{3}=-460 \\\\\n",
    "45x_{1}-15x_{2}+38x_{3}=193\n",
    "\\end{cases}$$"
   ]
  },
  {
   "cell_type": "markdown",
   "metadata": {},
   "source": [
    "__Решение__"
   ]
  },
  {
   "cell_type": "markdown",
   "metadata": {},
   "source": [
    "Матрица коэффициентов $A$ будет иметь вид\n",
    "\n",
    "$$\\begin{pmatrix}\n",
    " 81 & -45 &  45 \\\\ \n",
    "-45 &  50 & -15 \\\\ \n",
    " 45 & -15 &  38\n",
    "\\end{pmatrix}.$$"
   ]
  },
  {
   "cell_type": "markdown",
   "metadata": {},
   "source": [
    "Произведем разложение на $LL^{T}$:\n",
    "\n",
    "$$l_{11}=\\sqrt{a_{11}}=\\sqrt{81}=9,$$\n",
    "$$l_{21}=\\frac{a_{21}}{l_{11}}=\\frac{-45}{9}=-5,$$\n",
    "$$l_{31}=\\frac{a_{31}}{l_{11}}=\\frac{45}{9}=5,$$\n",
    "\n",
    "$$l_{22}=\\sqrt{a_{22}-l_{21}^{2}}=\\sqrt{50 - 25}=5,$$\n",
    "$$l_{32}=\\frac{1}{l_{22}}\\left ( a_{32}-l_{21}\\cdot l_{31} \\right)=\\frac{1}{5}\\left ( -15 - (-5)\\cdot 5 \\right )=\\frac{10}{5}=2,$$\n",
    "\n",
    "$$l_{33}=\\sqrt{a_{33}-l_{31}^{2}-l_{32}^{2}}=\\sqrt{38-25-4}=\\sqrt{9}=3$$"
   ]
  },
  {
   "cell_type": "markdown",
   "metadata": {},
   "source": [
    "Получили матрицу \n",
    "\n",
    "$$L = \\begin{pmatrix}\n",
    " 9 & 0 & 0 \\\\ \n",
    "-5 & 5 & 0 \\\\ \n",
    " 5 & 2 & 3\n",
    "\\end{pmatrix}, \n",
    "\\; \\; \n",
    "L^{T} = \\begin{pmatrix}\n",
    "9 & -5 & 5 \\\\ \n",
    "0 &  5 & 2 \\\\ \n",
    "0 &  0 & 3\n",
    "\\end{pmatrix}.$$"
   ]
  },
  {
   "cell_type": "markdown",
   "metadata": {},
   "source": [
    "Решим систему $Ly=b:$\n",
    "\n",
    "$$\\begin{cases}\n",
    "9\\cdot y_{1}=531, \\\\\n",
    "-5\\cdot y_{1}+5\\cdot y_{2}=-460, \\\\\n",
    "5\\cdot y_{1} +2\\cdot y_{2}+3\\cdot y_{3}=193.\n",
    "\\end{cases}$$\n",
    "\n",
    "$$y_{1} = 59,$$\n",
    "\n",
    "$$y_{2}=\\frac{-460+ (5\\cdot 59)}{5}= -33,$$\n",
    "\n",
    "$$y_{3}=\\frac{193 - 5\\cdot 59 -2\\cdot (-33)}{3}=-\\frac{36}{3} = -12$$"
   ]
  },
  {
   "cell_type": "markdown",
   "metadata": {},
   "source": [
    "И решим систему $L^{T}x=y:$\n",
    "\n",
    "$$\\begin{cases}\n",
    "9x_{1}-5x_{2}+5x_{3}=59, \\\\\n",
    "5x_{2}+2x_{3}=-33, \\\\\n",
    "3x_{3}=-12.\n",
    "\\end{cases}$$\n",
    "\n",
    "$$x_{3}=-4,$$\n",
    "\n",
    "$$x_{2}=\\frac{-33 - 2\\cdot (-4)}{5}=\\frac{-25}{5}= -5$$\n",
    "\n",
    "$$x_{1}=\\frac{59+5\\cdot (-5) - 5\\cdot (-4)}{9}=6.$$"
   ]
  },
  {
   "cell_type": "markdown",
   "metadata": {},
   "source": [
    "Осуществим проверку, подставив полученные значения в исходную систему:\n",
    "\n",
    "$$\\begin{cases}\n",
    " 81\\cdot 6 - 45\\cdot(-5) + 45\\cdot(-4) = 486 + 225 - 180 = 531, \\\\\n",
    "-45\\cdot 6 + 50\\cdot(-5) - 15\\cdot(-4) = -270 - 250 + 60 = -460, \\\\\n",
    " 45\\cdot 6 - 15\\cdot(-5) + 38\\cdot(-4) =  270 + 75 - 152 = 193.\n",
    "\\end{cases}$$"
   ]
  },
  {
   "cell_type": "markdown",
   "metadata": {},
   "source": [
    "---"
   ]
  },
  {
   "cell_type": "markdown",
   "metadata": {},
   "source": [
    "__5*.__ Написать на Python программу с реализацией одного из изученных алгоритмов решения СЛАУ."
   ]
  },
  {
   "cell_type": "code",
   "execution_count": 62,
   "metadata": {},
   "outputs": [],
   "source": [
    "def kramer(A,b):\n",
    "    \"\"\" Решение линейных уравнений методом Крамера \"\"\"\n",
    " \n",
    "    n = len(A)\n",
    "    a = list(zip(*A))\n",
    "\n",
    "    det_a = np.linalg.det(a)\n",
    "    if not det_a:\n",
    "        raise RuntimeError(\"Система не имеет решения!\")\n",
    " \n",
    "    result = []\n",
    "    for i in range(n):\n",
    "        r = a[:]\n",
    "        r[i] = list(b)\n",
    "        result.append(round(np.linalg.det(r) / det_a,4))\n",
    "    return result"
   ]
  },
  {
   "cell_type": "code",
   "execution_count": 63,
   "metadata": {},
   "outputs": [
    {
     "data": {
      "text/plain": [
       "[2.0, -1.0, 1.0]"
      ]
     },
     "execution_count": 63,
     "metadata": {},
     "output_type": "execute_result"
    }
   ],
   "source": [
    "A = np.array([[2, -1, 5], [1, 1, -3], [2, 4, 1]])\n",
    "b = np.array([10, -2, 1])\n",
    "kramer(A,b)"
   ]
  },
  {
   "cell_type": "code",
   "execution_count": 64,
   "metadata": {},
   "outputs": [
    {
     "data": {
      "text/plain": [
       "[5.0, 2.0]"
      ]
     },
     "execution_count": 64,
     "metadata": {},
     "output_type": "execute_result"
    }
   ],
   "source": [
    "A = np.array([[1, -2], [3, -4]])\n",
    "b = np.array([1, 7])\n",
    "kramer(A,b)"
   ]
  },
  {
   "cell_type": "code",
   "execution_count": null,
   "metadata": {},
   "outputs": [],
   "source": []
  }
 ],
 "metadata": {
  "kernelspec": {
   "display_name": "Python 3",
   "language": "python",
   "name": "python3"
  },
  "language_info": {
   "codemirror_mode": {
    "name": "ipython",
    "version": 3
   },
   "file_extension": ".py",
   "mimetype": "text/x-python",
   "name": "python",
   "nbconvert_exporter": "python",
   "pygments_lexer": "ipython3",
   "version": "3.7.6"
  }
 },
 "nbformat": 4,
 "nbformat_minor": 4
}
