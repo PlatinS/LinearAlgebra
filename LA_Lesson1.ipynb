{
 "cells": [
  {
   "cell_type": "markdown",
   "metadata": {},
   "source": [
    "__1.__ Исследовать на линейную зависимость:\n",
    "$$f_{1}(x)=e^{x}, f_{2}(x)=1, f_{3}(x)=x+1, f_{4}(x)=x-e^{x}.$$"
   ]
  },
  {
   "cell_type": "markdown",
   "metadata": {},
   "source": [
    "__Решение__   \n",
    "   \n",
    "$f_{1}(x)= e^{x} = -f_{2}(x) + f_{3}(x) - f_{4}(x) = (-1) + x + 1 - x + e^{x} = e^{x}$   \n",
    "   \n",
    "Один из векторов является линейной комбинацией трёх остальных. Из этого следует, что векторы линейно зависимы."
   ]
  },
  {
   "cell_type": "markdown",
   "metadata": {},
   "source": [
    "---"
   ]
  },
  {
   "cell_type": "markdown",
   "metadata": {},
   "source": [
    "__2.__ Исследовать на линейную зависимость:\n",
    "$$f_{1}(x)=2, f_{2}(x)=x, f_{3}(x)=x^{2}, f_{4}(x)=(x+1)^{2}.$$"
   ]
  },
  {
   "cell_type": "markdown",
   "metadata": {},
   "source": [
    "__Решение__    \n",
    "\n",
    "Для того, чтобы некоторое множество элементов линейного пространства было линейно зависимым, необходимо и достаточно, чтобы один из этих элементов являлся линейной комбинацией остальных.   \n",
    "   \n",
    "Выразим один из векторов через другие:\n",
    "$$f_{4}(x)=(x+1)^{2} = x^{2}+2x+1 = f_{3}(x) + 2 \\cdot f_{2}(x) + 0.5 \\cdot f_{1}(x) = x^{2} + 2x + 1 $$   \n",
    "   \n",
    "Векторы линейно зависимы."
   ]
  },
  {
   "cell_type": "markdown",
   "metadata": {},
   "source": [
    "---"
   ]
  },
  {
   "cell_type": "markdown",
   "metadata": {},
   "source": [
    "__3.__ Найти координаты вектора $x = (2, 3, 5)\\in \\mathbb{R}^{3}$ в базисе $b_{1}=(0, 0, 10)$, $b_{2}=(2, 0, 0)$, $b_{3}=(0, 1, 0)$."
   ]
  },
  {
   "cell_type": "markdown",
   "metadata": {},
   "source": [
    "__Решение__    \n",
    "   \n",
    "$x = 0.5 \\cdot b_{1} + 1 \\cdot b_{2} + 3 \\cdot b_{3}$   \n",
    "$x = (0.5, 1, 3)$"
   ]
  },
  {
   "cell_type": "code",
   "execution_count": 1,
   "metadata": {},
   "outputs": [],
   "source": [
    "import numpy as np"
   ]
  },
  {
   "cell_type": "code",
   "execution_count": 2,
   "metadata": {},
   "outputs": [],
   "source": [
    "x = np.array([2,3,5])\n",
    "b1 = np.array([0,0,10])\n",
    "b2 = np.array([2,0,0])\n",
    "b3 = np.array([0,1,0])"
   ]
  },
  {
   "cell_type": "code",
   "execution_count": 3,
   "metadata": {},
   "outputs": [
    {
     "data": {
      "text/plain": [
       "array([[ 0,  2,  0],\n",
       "       [ 0,  0,  1],\n",
       "       [10,  0,  0]])"
      ]
     },
     "execution_count": 3,
     "metadata": {},
     "output_type": "execute_result"
    }
   ],
   "source": [
    "V = np.array([b1, b2, b3]).T\n",
    "V"
   ]
  },
  {
   "cell_type": "code",
   "execution_count": 4,
   "metadata": {},
   "outputs": [
    {
     "data": {
      "text/plain": [
       "array([[0. , 0. , 0.1],\n",
       "       [0.5, 0. , 0. ],\n",
       "       [0. , 1. , 0. ]])"
      ]
     },
     "execution_count": 4,
     "metadata": {},
     "output_type": "execute_result"
    }
   ],
   "source": [
    "A = np.linalg.inv(V)\n",
    "A"
   ]
  },
  {
   "cell_type": "code",
   "execution_count": 5,
   "metadata": {},
   "outputs": [
    {
     "data": {
      "text/plain": [
       "array([0.5, 1. , 3. ])"
      ]
     },
     "execution_count": 5,
     "metadata": {},
     "output_type": "execute_result"
    }
   ],
   "source": [
    "L = np.dot(A, x)\n",
    "L"
   ]
  },
  {
   "cell_type": "markdown",
   "metadata": {},
   "source": [
    "---"
   ]
  },
  {
   "cell_type": "markdown",
   "metadata": {},
   "source": [
    "__4.__ Найти координаты вектора $3x^{2}-2x+2\\in\\mathbb{R}^{3}[x]$:\n",
    "\n",
    "   а) в базисе $1$, $x$, $x^{2}$;\n",
    "\n",
    "   б) в базисе $x^{2}$, $x-1$, $1$."
   ]
  },
  {
   "cell_type": "markdown",
   "metadata": {},
   "source": [
    "__Решение__   \n",
    "\n",
    "а) Координаты, которые удовлетворяют условию в базисе $1$, $x$, $x^{2}$:   \n",
    "$$3x^{2}-2x+2 = 1 \\cdot 2 + x \\cdot (-2) + x^{2} \\cdot 3$$\n",
    "$(2, -2, 3)$"
   ]
  },
  {
   "cell_type": "markdown",
   "metadata": {},
   "source": [
    "б) Координаты, которые удовлетворяют условию в базисе $x^{2}$, $(x-1)$, $1$:   \n",
    "$$3x^{2}-2x+2 = x^2 \\cdot 3 + (x-1) \\cdot (-2) + 1 \\cdot 0$$\n",
    "$(3, -2, 0)$"
   ]
  },
  {
   "cell_type": "markdown",
   "metadata": {},
   "source": [
    "---"
   ]
  },
  {
   "cell_type": "markdown",
   "metadata": {},
   "source": [
    "__5.__ Установить, является ли линейным подпространством:\n",
    "\n",
    "а) совокупность всех векторов трехмерного пространства, у которых по крайней мере одна из первых двух координат равна нулю;\n",
    "    \n",
    "б) все векторы, являющиеся линейными комбинациями данных векторов $\\{u_{1}, u_{2}, ..., u_{n}\\}$."
   ]
  },
  {
   "cell_type": "markdown",
   "metadata": {},
   "source": [
    "__Решение__   \n",
    "   \n",
    "а) Возможные варианты:   \n",
    "- первая координата равна нулю $(0, b, c)$   \n",
    "- вторая координата равна нулю $(d, 0, f)$   \n",
    "- обе первые координаты равны нулю $(0, 0, g)$"
   ]
  },
  {
   "cell_type": "markdown",
   "metadata": {},
   "source": [
    "Проверим случай, когда у первого вектора первая координата равна нулю, а у второго - вторая:   \n",
    "$(0, b, c) + (d, 0, f) = (d, b, c+f)$   \n",
    "Полученный вектор не принадлежит указанному множеству всех векторов, то есть данное множество не является подпространством линейного пространства $\\mathbb{R}^{3}$."
   ]
  },
  {
   "cell_type": "markdown",
   "metadata": {},
   "source": [
    "б) Результаты операций $\\ u+v$ и $\\ \\alpha\\cdot u$ также будут являться линейными комбинациями заданных векторов $\\{u_{1}, u_{2}, ..., u_{n}\\} \\implies$   \n",
    "Все векторы, являющиеся линейными комбинациями данных векторов $\\{u_{1}, u_{2}, ..., u_{n}\\}$ будут являться линейным подпространством."
   ]
  },
  {
   "cell_type": "markdown",
   "metadata": {},
   "source": [
    "### Lesson 2"
   ]
  },
  {
   "cell_type": "markdown",
   "metadata": {},
   "source": [
    "__1.__ Найти скалярное произведение векторов $x, y \\in \\mathbb{R}$:<br>\n",
    "а) $x=(0,-3, 6),~y=(-4, 7, 9);$<br>\n",
    "б) $x=(7, -4, 0, 1),~y=(-3, 1, 11, 2).$"
   ]
  },
  {
   "cell_type": "code",
   "execution_count": 6,
   "metadata": {},
   "outputs": [
    {
     "name": "stdout",
     "output_type": "stream",
     "text": [
      "1. Скалярное произведение x и y = 33\n"
     ]
    }
   ],
   "source": [
    "x = np.array([0, -3, 6])\n",
    "y = np.array([-4,7,9])\n",
    "print(f'1. Скалярное произведение x и y = {np.dot(x, y)}')"
   ]
  },
  {
   "cell_type": "code",
   "execution_count": 7,
   "metadata": {},
   "outputs": [
    {
     "name": "stdout",
     "output_type": "stream",
     "text": [
      "2. Скалярное произведение x и y = -23\n"
     ]
    }
   ],
   "source": [
    "x = np.array([ 7,-4,  0, 1])\n",
    "y = np.array([-3, 1, 11, 2])\n",
    "print(f'2. Скалярное произведение x и y = {np.dot(x, y)}')"
   ]
  },
  {
   "cell_type": "markdown",
   "metadata": {},
   "source": [
    "__2.__ Найти нормы векторов $(4, 2, 4)$ и $(12, 3, 4)$ и угол между ними."
   ]
  },
  {
   "cell_type": "code",
   "execution_count": 8,
   "metadata": {},
   "outputs": [],
   "source": [
    "from numpy.linalg import norm\n",
    "import math"
   ]
  },
  {
   "cell_type": "code",
   "execution_count": 9,
   "metadata": {},
   "outputs": [],
   "source": [
    "a = np.array([4, 2, 4])\n",
    "b = np.array([12, 3, 4])"
   ]
  },
  {
   "cell_type": "code",
   "execution_count": 10,
   "metadata": {},
   "outputs": [
    {
     "name": "stdout",
     "output_type": "stream",
     "text": [
      "Евклидова норма вектора a: 6.0\n",
      "Евклидова норма вектора b: 13.0\n"
     ]
    }
   ],
   "source": [
    "print(f'Евклидова норма вектора a: {norm(a, ord=2)}')\n",
    "print(f'Евклидова норма вектора b: {norm(b, ord=2)}')"
   ]
  },
  {
   "cell_type": "code",
   "execution_count": 13,
   "metadata": {},
   "outputs": [],
   "source": [
    "def angle(a, b):\n",
    "    return math.degrees(np.arccos(np.dot(a,b) / norm(a) / norm(b)))"
   ]
  },
  {
   "cell_type": "code",
   "execution_count": 14,
   "metadata": {},
   "outputs": [
    {
     "name": "stdout",
     "output_type": "stream",
     "text": [
      "Угол между векторами : 26.18°\n"
     ]
    }
   ],
   "source": [
    "print(f'Угол между векторами : {angle(a,b):.2f}°')"
   ]
  },
  {
   "cell_type": "markdown",
   "metadata": {},
   "source": [
    "__3.__ Будет ли линейное пространство евклидовым, если за скалярное произведение принять:<br>\n",
    "а) произведение длин векторов;<br>\n",
    "б) утроенное обычное скалярное произведение векторов?"
   ]
  },
  {
   "cell_type": "markdown",
   "metadata": {},
   "source": [
    "а) Проверим, удовлетворяет ли произведение длин векторов аксиомам Евклидова пространства:   \n",
    "1) $\\left|x\\right|\\cdot\\left|y\\right| = \\left|y\\right|\\cdot\\left|x\\right|$ - выполняется   \n",
    "2) $(\\lambda \\cdot \\left|x\\right|)\\cdot\\left|y\\right|= \\lambda \\cdot (\\left|x\\right|\\cdot\\left|y\\right|)$ - выполняется   \n",
    "3) $\\left|x_{1}\\right|\\cdot\\left|y\\right| + \\left|x_{2}\\right|\\cdot\\left|y\\right|= (\\left|x_{1}\\right|+\\left|x_{2}\\right|)\\cdot\\left|y\\right|$,   \n",
    "но $\\left|x_{1}\\right| + \\left|x_{2}\\right| \\geq \\left|x_{1}+x_{2}\\right|$, так как $(\\sqrt{\\sum_{i}|x_{1i}|^{2}}+\\sqrt{\\sum_{i}|x_{2i}|^{2}}) \\geq \\sqrt{\\sum_{i}|x_{1i}+x_{2i}|^{2}}$   \n",
    "=> $(x_{1}+x_{2},y)\\leq(x_{1},y)+(x_{2},y)$  3-я аксиома не выполняется и, следовательно, линейное пространство не будет Евклидовым."
   ]
  },
  {
   "cell_type": "markdown",
   "metadata": {},
   "source": [
    "б) Проверим, выполняются ли аксиомы принадлежности к Евклидову пространству, если $(x, y) = 3 \\cdot \\left|x\\right|\\cdot\\left|y\\right|cos\\alpha.$"
   ]
  },
  {
   "cell_type": "markdown",
   "metadata": {},
   "source": [
    "1) $(x,y)=(y,x)$ - выполняется   \n",
    "2) $(\\lambda x, y)=\\lambda(x, y)$ - выполняется   \n",
    "3) $(x_{1},y)+(x_{2},y)=3 \\cdot \\left|x_{1}\\right|\\cdot\\left|y\\right|cos\\alpha_{1} +3 \\cdot \\left|x_{2}\\right|\\cdot\\left|y\\right|cos\\alpha_{2}=3(\\left|x_{1}\\right|cos\\alpha_{1}+\\left|x_{2}\\right|cos\\alpha_{2})\\left|y\\right|= 3\\cdot(\\left|x_{1}+x_{2}\\right|cos\\alpha)\\left|y\\right|= (x_{1}+x_{2},y) $ - выполняется   \n",
    "4) $(x, x)\\geq0$, причем $(x,x)=0\\Leftrightarrow x=0$ - выполняется   \n",
    "Аксиомы выполняются => линейное пространство будет Евклидовым."
   ]
  },
  {
   "cell_type": "markdown",
   "metadata": {},
   "source": [
    "__4.__ Какие из нижеперечисленных векторов образуют ортонормированный базис в линейном пространстве $\\mathbb{R}^{3}$:<br>\n",
    "а) $(1,0,0),(0,0,1);$ <br>\n",
    "б) $(1/\\sqrt{2},-1/\\sqrt{2},0),(1/\\sqrt{2},1/\\sqrt{2},0), (0,0,1);$<br>\n",
    "в) $(1/2, -1/2, 0), (0, 1/2, 1/2), (0,0,1);$<br>\n",
    "г) $(1,0,0),(0,1,0),(0,0,1)?$ "
   ]
  },
  {
   "cell_type": "markdown",
   "metadata": {},
   "source": [
    "а) Базисом не являются, т.к. базис в линейном пространстве $\\mathbb{R}^{3}$ должен содержать 3 вектора."
   ]
  },
  {
   "cell_type": "markdown",
   "metadata": {},
   "source": [
    "б) Образуют ортонормированный базис"
   ]
  },
  {
   "cell_type": "code",
   "execution_count": 18,
   "metadata": {},
   "outputs": [
    {
     "name": "stdout",
     "output_type": "stream",
     "text": [
      "Норма x: 1.00\n",
      "Норма y: 1.00\n",
      "Норма z: 1.00\n",
      "Угол <x,y> 90.0°\n",
      "Угол <x,z> 90.0°\n",
      "Угол <y,z> 90.0°\n"
     ]
    }
   ],
   "source": [
    "x = [1/np.sqrt(2), -1/np.sqrt(2), 0]\n",
    "y = [1/np.sqrt(2), 1/np.sqrt(2), 0]\n",
    "z = [0, 0, 1]\n",
    "print(f'Норма x: {norm(x):.2f}')\n",
    "print(f'Норма y: {norm(y):.2f}')\n",
    "print(f'Норма z: {norm(z):.2f}')\n",
    "print(f'Угол <x,y> {angle(x, y):.1f}°')\n",
    "print(f'Угол <x,z> {angle(x, z):.1f}°')\n",
    "print(f'Угол <y,z> {angle(y, z):.1f}°')"
   ]
  },
  {
   "cell_type": "markdown",
   "metadata": {},
   "source": [
    "г) Базисом не являются"
   ]
  },
  {
   "cell_type": "code",
   "execution_count": 19,
   "metadata": {},
   "outputs": [
    {
     "name": "stdout",
     "output_type": "stream",
     "text": [
      "Норма x: 0.71\n",
      "Норма y: 0.71\n",
      "Норма z: 1.00\n",
      "Угол <x,y> 120.0°\n",
      "Угол <x,z> 90.0°\n",
      "Угол <y,z> 45.0°\n"
     ]
    }
   ],
   "source": [
    "x = [1/2, -1/2, 0]\n",
    "y = [0, 1/2, 1/2]\n",
    "z = [0, 0, 1]\n",
    "print(f'Норма x: {norm(x):.2f}')\n",
    "print(f'Норма y: {norm(y):.2f}')\n",
    "print(f'Норма z: {norm(z):.2f}')\n",
    "print(f'Угол <x,y> {angle(x, y):.1f}°')\n",
    "print(f'Угол <x,z> {angle(x, z):.1f}°')\n",
    "print(f'Угол <y,z> {angle(y, z):.1f}°')"
   ]
  },
  {
   "cell_type": "markdown",
   "metadata": {},
   "source": [
    "г) Образуют ортонормированный базис"
   ]
  },
  {
   "cell_type": "code",
   "execution_count": 20,
   "metadata": {},
   "outputs": [
    {
     "name": "stdout",
     "output_type": "stream",
     "text": [
      "Норма x: 1.00\n",
      "Норма y: 1.00\n",
      "Норма z: 1.00\n",
      "Угол <x,y> 90.0°\n",
      "Угол <x,z> 90.0°\n",
      "Угол <y,z> 90.0°\n"
     ]
    }
   ],
   "source": [
    "x = [1, 0, 0]\n",
    "y = [0, 1, 0]\n",
    "z = [0, 0, 1]\n",
    "print(f'Норма x: {norm(x):.2f}')\n",
    "print(f'Норма y: {norm(y):.2f}')\n",
    "print(f'Норма z: {norm(z):.2f}')\n",
    "print(f'Угол <x,y> {angle(x, y):.1f}°')\n",
    "print(f'Угол <x,z> {angle(x, z):.1f}°')\n",
    "print(f'Угол <y,z> {angle(y, z):.1f}°')"
   ]
  },
  {
   "cell_type": "code",
   "execution_count": null,
   "metadata": {},
   "outputs": [],
   "source": []
  }
 ],
 "metadata": {
  "kernelspec": {
   "display_name": "Python 3",
   "language": "python",
   "name": "python3"
  },
  "language_info": {
   "codemirror_mode": {
    "name": "ipython",
    "version": 3
   },
   "file_extension": ".py",
   "mimetype": "text/x-python",
   "name": "python",
   "nbconvert_exporter": "python",
   "pygments_lexer": "ipython3",
   "version": "3.7.6"
  }
 },
 "nbformat": 4,
 "nbformat_minor": 2
}
