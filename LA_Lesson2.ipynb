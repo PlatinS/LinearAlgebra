{
 "cells": [
  {
   "cell_type": "markdown",
   "metadata": {},
   "source": [
    "### Lesson 3"
   ]
  },
  {
   "cell_type": "markdown",
   "metadata": {},
   "source": [
    "__1.__ Установить, какие произведения матриц $AB$ и $BA$ определены, и найти размерности полученных матриц:\n",
    "\n",
    "   а) $A$ — матрица $4\\times 2$, $B$ — матрица $4\\times 2$;\n",
    "    \n",
    "   б) $A$ — матрица $2\\times 5$, $B$ — матрица $5\\times 3$;\n",
    "    \n",
    "   в) $A$ — матрица $8\\times 3$, $B$ — матрица $3\\times 8$;\n",
    "    \n",
    "   г) $A$ — квадратная матрица $4\\times 4$, $B$ — квадратная матрица $4\\times 4$."
   ]
  },
  {
   "cell_type": "markdown",
   "metadata": {},
   "source": [
    "__Решение__"
   ]
  },
  {
   "cell_type": "markdown",
   "metadata": {},
   "source": [
    "При перемножении количество столбцов левой матрицы должно совпадать с количеством строк правой матрицы.\n",
    "\n",
    "а) $A\\cdot B$ и $B\\cdot A$ не определены.\n",
    "\n",
    "б) $A\\cdot B$ определено, размерность матрицы $2 \\times 3$. $B\\cdot A$ не определено.\n",
    "\n",
    "в) $A\\cdot B$ определено, размерность матрицы $8 \\times 8$. $B\\cdot A$ также определено, размерность - $3 \\times 3$.\n",
    "\n",
    "г) $A\\cdot B$ и $B\\cdot A$ определены. Размерности матриц - $4 \\times 4$."
   ]
  },
  {
   "cell_type": "markdown",
   "metadata": {},
   "source": [
    "__2.__ Найти сумму и произведение матриц $A=\\begin{pmatrix}\n",
    "1 & -2\\\\ \n",
    "3 & 0\n",
    "\\end{pmatrix}$ и $B=\\begin{pmatrix}\n",
    "4 & -1\\\\ \n",
    "0 & 5\n",
    "\\end{pmatrix}.$"
   ]
  },
  {
   "cell_type": "markdown",
   "metadata": {},
   "source": [
    "__Решение__"
   ]
  },
  {
   "cell_type": "markdown",
   "metadata": {},
   "source": [
    "$$A + B = \n",
    "    \\begin{pmatrix}\n",
    "    1 & -2\\\\ \n",
    "    3 & 0\n",
    "    \\end{pmatrix} + \\begin{pmatrix}\n",
    "    4 & -1\\\\ \n",
    "    0 & 5\n",
    "    \\end{pmatrix} = \\begin{pmatrix}\n",
    "    5 & -3\\\\ \n",
    "    3 & 5\n",
    "    \\end{pmatrix}\n",
    "    $$"
   ]
  },
  {
   "cell_type": "markdown",
   "metadata": {},
   "source": [
    "$$A \\cdot B = \n",
    "    \\begin{pmatrix}\n",
    "    1 & -2\\\\ \n",
    "    3 & 0\n",
    "    \\end{pmatrix} \\cdot \\begin{pmatrix}\n",
    "    4 & -1\\\\ \n",
    "    0 & 5\n",
    "    \\end{pmatrix} = \\begin{pmatrix}\n",
    "    4 & -11\\\\ \n",
    "    12 & -3\n",
    "    \\end{pmatrix}\n",
    "    $$"
   ]
  },
  {
   "cell_type": "markdown",
   "metadata": {},
   "source": [
    "$$B \\cdot A = \n",
    "    \\begin{pmatrix}\n",
    "    4 & -1\\\\ \n",
    "    0 & 5\n",
    "    \\end{pmatrix} \\cdot \\begin{pmatrix}\n",
    "    1 & -2\\\\ \n",
    "    3 & 0\n",
    "    \\end{pmatrix} = \\begin{pmatrix}\n",
    "    1 & -8\\\\ \n",
    "    15 & 0\n",
    "    \\end{pmatrix}\n",
    "    $$"
   ]
  },
  {
   "cell_type": "code",
   "execution_count": 1,
   "metadata": {},
   "outputs": [],
   "source": [
    "import numpy as np"
   ]
  },
  {
   "cell_type": "code",
   "execution_count": 2,
   "metadata": {},
   "outputs": [
    {
     "name": "stdout",
     "output_type": "stream",
     "text": [
      "Матрица A\n",
      "[[ 1 -2]\n",
      " [ 3  0]]\n",
      "Матрица B\n",
      "[[ 4 -1]\n",
      " [ 0  5]]\n",
      "Матрица A + B\n",
      "[[ 5 -3]\n",
      " [ 3  5]]\n",
      "Матрица A*B\n",
      "[[  4 -11]\n",
      " [ 12  -3]]\n",
      "Матрица B*A\n",
      "[[ 1 -8]\n",
      " [15  0]]\n"
     ]
    }
   ],
   "source": [
    "A = np.array([[1, -2], [3, 0]])\n",
    "B = np.array([[4, -1], [0, 5]])\n",
    "print(f'Матрица A\\n{A}')\n",
    "print(f'Матрица B\\n{B}')\n",
    "print(f'Матрица A + B\\n{A + B}')\n",
    "print(f'Матрица A*B\\n{np.dot(A, B)}')\n",
    "print(f'Матрица B*A\\n{np.dot(B, A)}')"
   ]
  },
  {
   "cell_type": "markdown",
   "metadata": {},
   "source": [
    "__3.__ Из закономерностей сложения и умножения матриц на число можно сделать вывод, что матрицы одного размера образуют линейное пространство. Вычислить линейную комбинацию $3A-2B+4C$ для матриц $A=\\begin{pmatrix}\n",
    "1 & 7\\\\ \n",
    "3 & -6\n",
    "\\end{pmatrix}$, $B=\\begin{pmatrix}\n",
    "0 & 5\\\\ \n",
    "2 & -1\n",
    "\\end{pmatrix}$, $C=\\begin{pmatrix}\n",
    "2 & -4\\\\ \n",
    "1 & 1\n",
    "\\end{pmatrix}.$"
   ]
  },
  {
   "cell_type": "markdown",
   "metadata": {},
   "source": [
    "__Решение__"
   ]
  },
  {
   "cell_type": "markdown",
   "metadata": {},
   "source": [
    "$3 \\cdot \\begin{pmatrix}\n",
    "1 & 7\\\\ \n",
    "3 & -6\n",
    "\\end{pmatrix}+(-2)\\cdot \\begin{pmatrix}\n",
    "0 & 5\\\\ \n",
    "2 & -1\n",
    "\\end{pmatrix}+4\\cdot \\begin{pmatrix}\n",
    "2 & -4\\\\ \n",
    "1 & 1\n",
    "\\end{pmatrix} = \n",
    "\\begin{pmatrix}\n",
    "3 & 21\\\\ \n",
    "9 & -18\n",
    "\\end{pmatrix} +\n",
    "\\begin{pmatrix}\n",
    "0 & -10\\\\ \n",
    "-4 & 2\n",
    "\\end{pmatrix} +\n",
    "\\begin{pmatrix}\n",
    "8 & -16\\\\ \n",
    "4 & 4\n",
    "\\end{pmatrix} = \n",
    "\\begin{pmatrix}\n",
    "11 & -5\\\\ \n",
    "9 & -12\n",
    "\\end{pmatrix}\n",
    "$"
   ]
  },
  {
   "cell_type": "code",
   "execution_count": 3,
   "metadata": {},
   "outputs": [
    {
     "data": {
      "text/plain": [
       "array([[ 11,  -5],\n",
       "       [  9, -12]])"
      ]
     },
     "execution_count": 3,
     "metadata": {},
     "output_type": "execute_result"
    }
   ],
   "source": [
    "A = np.array([[1, 7], [3,-6]])\n",
    "B = np.array([[0, 5], [2,-1]])\n",
    "C = np.array([[2,-4], [1, 1]])\n",
    "D = 3*A + (-2)*B + 4*C\n",
    "D"
   ]
  },
  {
   "cell_type": "markdown",
   "metadata": {},
   "source": [
    "__4.__ Дана матрица $A=\\begin{pmatrix}\n",
    "4 & 1\\\\ \n",
    "5 & -2\\\\ \n",
    "2 & 3\n",
    "\\end{pmatrix}$.\n",
    "Вычислить $AA^{T}$ и $A^{T}A$."
   ]
  },
  {
   "cell_type": "markdown",
   "metadata": {},
   "source": [
    "__Решение__"
   ]
  },
  {
   "cell_type": "markdown",
   "metadata": {},
   "source": [
    "$$  AA^{T} = \n",
    "    \\begin{pmatrix}\n",
    "    4 & 1\\\\ \n",
    "    5 & -2\\\\ \n",
    "    2 & 3\n",
    "    \\end{pmatrix}\n",
    "    \\cdot\n",
    "    \\begin{pmatrix}\n",
    "    4 & 5 & 2\\\\ \n",
    "    1 & -2 & 3\n",
    "    \\end{pmatrix}\n",
    "    =\n",
    "    \\begin{pmatrix}\n",
    "    4\\cdot4 + 1\\cdot 1 & 4\\cdot5 - 1\\cdot 2 & 4\\cdot2 + 1\\cdot 3\\\\ \n",
    "    5\\cdot4 - 2\\cdot 1 & 5\\cdot5 + 2\\cdot 2 & 5\\cdot2 - 2\\cdot 3\\\\ \n",
    "    2\\cdot4 + 3\\cdot 1 & 2\\cdot5 - 3\\cdot 2 & 2\\cdot2 + 3\\cdot 3\n",
    "    \\end{pmatrix}\n",
    "    =\n",
    "    \\begin{pmatrix}\n",
    "    17 & 18 & 11\\\\ \n",
    "    18 & 29 & 4\\\\ \n",
    "    11 & 4 & 13\n",
    "    \\end{pmatrix}\n",
    "    $$"
   ]
  },
  {
   "cell_type": "markdown",
   "metadata": {},
   "source": [
    "$$\n",
    "    A^{T}A = \n",
    "    \\begin{pmatrix}\n",
    "    4 & 5 & 2\\\\ \n",
    "    1 & -2 & 3\n",
    "    \\end{pmatrix}\n",
    "    \\cdot\n",
    "    \\begin{pmatrix}\n",
    "    4 & 1\\\\ \n",
    "    5 & -2\\\\ \n",
    "    2 & 3\n",
    "    \\end{pmatrix}\n",
    "    =\n",
    "    \\begin{pmatrix}\n",
    "    4\\cdot4 + 5\\cdot 5 + 2 \\cdot 2 & 4\\cdot1 - 5\\cdot 2 + 2 \\cdot 3\\\\ \n",
    "    1\\cdot4 - 2\\cdot 5 + 3 \\cdot 2 & 1\\cdot1 + 2\\cdot 2 + 3 \\cdot 3\n",
    "    \\end{pmatrix}\n",
    "    =\n",
    "    \\begin{pmatrix}\n",
    "    45 & 0\\\\ \n",
    "    0 & 14\n",
    "    \\end{pmatrix}\n",
    "    $$"
   ]
  },
  {
   "cell_type": "code",
   "execution_count": 4,
   "metadata": {},
   "outputs": [
    {
     "name": "stdout",
     "output_type": "stream",
     "text": [
      "A * A_T =\n",
      "[[17 18 11]\n",
      " [18 29  4]\n",
      " [11  4 13]]\n",
      "\n",
      "A_T * A =\n",
      "[[45  0]\n",
      " [ 0 14]]\n"
     ]
    }
   ],
   "source": [
    "A = np.array([[4, 1], [5,-2], [2, 3]])\n",
    "print(f'A * A_T =\\n{A.dot(A.T)}\\n')\n",
    "print(f'A_T * A =\\n{A.T.dot(A)}')"
   ]
  },
  {
   "cell_type": "markdown",
   "metadata": {},
   "source": [
    "__5*.__ Написать на Python функцию для перемножения двух произвольных матриц, не используя NumPy."
   ]
  },
  {
   "cell_type": "code",
   "execution_count": 5,
   "metadata": {},
   "outputs": [],
   "source": [
    "def matrixmulti(M1, M2):\n",
    "    r1 = len(M1)    # строк в первой матрице\n",
    "    c1 = len(M1[0]) # столбцов в 1-ой матрице\n",
    "    r2 = len(M2)    # строк во 2-ой матрице\n",
    "    c2 = len(M2[0]) # столбцов во 2-ой матрице\n",
    "    if c1 != r2:\n",
    "        print('Матрицы не могут быть перемножены!')\n",
    "    else:\n",
    "        S = 0\n",
    "        T = []\n",
    "        M3= []\n",
    "        for i in range(0,r1):\n",
    "            for j in range(0,c2):\n",
    "                for k in range(0,c1):\n",
    "                    S += M1[i][k] * M2[k][j]\n",
    "                T.append(S)\n",
    "                S = 0\n",
    "            M3.append(T)\n",
    "            T=[]\n",
    "    return np.array(M3)"
   ]
  },
  {
   "cell_type": "code",
   "execution_count": 6,
   "metadata": {},
   "outputs": [
    {
     "data": {
      "text/plain": [
       "array([[17, 18, 11],\n",
       "       [18, 29,  4],\n",
       "       [11,  4, 13]])"
      ]
     },
     "execution_count": 6,
     "metadata": {},
     "output_type": "execute_result"
    }
   ],
   "source": [
    "matrixmulti(A, A.T)"
   ]
  },
  {
   "cell_type": "code",
   "execution_count": 7,
   "metadata": {},
   "outputs": [
    {
     "data": {
      "text/plain": [
       "array([[45,  0],\n",
       "       [ 0, 14]])"
      ]
     },
     "execution_count": 7,
     "metadata": {},
     "output_type": "execute_result"
    }
   ],
   "source": [
    "matrixmulti(A.T, A)"
   ]
  },
  {
   "cell_type": "markdown",
   "metadata": {},
   "source": [
    "### Lesson 4"
   ]
  },
  {
   "cell_type": "markdown",
   "metadata": {},
   "source": [
    "__1.__ Вычислить определитель:\n",
    "\n",
    "   a)\n",
    "\n",
    "$$\\begin{vmatrix}\n",
    "sinx & -cosx\\\\ \n",
    "cosx & sinx\n",
    "\\end{vmatrix};$$\n",
    "\n",
    "   б)\n",
    "    \n",
    "$$\\begin{vmatrix}\n",
    "4 & 2 & 3\\\\ \n",
    "0 & 5 & 1\\\\ \n",
    "0 & 0 & 9\n",
    "\\end{vmatrix};$$\n",
    "    \n",
    "   в)\n",
    "\n",
    "$$\\begin{vmatrix}\n",
    "1 & 2 & 3\\\\ \n",
    "4 & 5 & 6\\\\ \n",
    "7 & 8 & 9\n",
    "\\end{vmatrix}.$$"
   ]
  },
  {
   "cell_type": "markdown",
   "metadata": {},
   "source": [
    "__Решение__"
   ]
  },
  {
   "cell_type": "markdown",
   "metadata": {},
   "source": [
    "a) $$|A| = sin^2x + cos^2x = 1$$"
   ]
  },
  {
   "cell_type": "markdown",
   "metadata": {},
   "source": [
    "б) $$|A| = 4 \\cdot 5 \\cdot 9 = 180$$"
   ]
  },
  {
   "cell_type": "markdown",
   "metadata": {},
   "source": [
    "в) Т.к. у матрицы линейно-зависимые строки и столбцы, определитель должен быть равен 0.   \n",
    "   \n",
    "$$|A| = 1 \\cdot \n",
    "\\begin{vmatrix}\n",
    "5 & 6\\\\ \n",
    "8 & 9\n",
    "\\end{vmatrix}- 2 \\cdot\n",
    "\\begin{vmatrix}\n",
    "4 & 6\\\\ \n",
    "7 & 9\n",
    "\\end{vmatrix}+ 3 \\cdot\n",
    "\\begin{vmatrix}\n",
    "4 & 5\\\\ \n",
    "7 & 8\n",
    "\\end{vmatrix} = (5\\cdot 9 - 6\\cdot 8) - 2\\cdot (4\\cdot 9 - 6\\cdot 7) + 3\\cdot (4\\cdot 8 - 5\\cdot 7) = -3 + 12 - 9 = 0\n",
    "$$"
   ]
  },
  {
   "cell_type": "code",
   "execution_count": 12,
   "metadata": {},
   "outputs": [
    {
     "name": "stdout",
     "output_type": "stream",
     "text": [
      "Определитель матрицы А = 0.0\n"
     ]
    }
   ],
   "source": [
    "A = np.array([[1, 2, 3], [4, 5, 6], [7, 8, 9]])\n",
    "print(f'Определитель матрицы А = {np.linalg.det(A):.1f}')"
   ]
  },
  {
   "cell_type": "markdown",
   "metadata": {},
   "source": [
    "__2.__ Определитель матрицы $A$ равен $4$. Найти:\n",
    "\n",
    "   а) $det(A^{2})$;\n",
    "    \n",
    "   б) $det(A^{T})$;\n",
    "    \n",
    "   в) $det(2A)$."
   ]
  },
  {
   "cell_type": "markdown",
   "metadata": {},
   "source": [
    "__Решение__"
   ]
  },
  {
   "cell_type": "markdown",
   "metadata": {},
   "source": [
    "а) $det(A^2) = det(A) \\cdot det(A) = 4\\cdot 4 = 16$"
   ]
  },
  {
   "cell_type": "markdown",
   "metadata": {},
   "source": [
    "б) $det(A^T) = det(A) = 4$"
   ]
  },
  {
   "cell_type": "markdown",
   "metadata": {},
   "source": [
    "в) $det(2A) = 2^n \\cdot det(A) = 2^n \\cdot 4$, где $n$ - количество строк матрицы $A$"
   ]
  },
  {
   "cell_type": "markdown",
   "metadata": {},
   "source": [
    "__3.__  Доказать, что матрица\n",
    "\n",
    "$$\\begin{pmatrix}\n",
    "-2 & 7 & -3\\\\ \n",
    "4 & -14 & 6\\\\ \n",
    "-3 & 7 & 13\n",
    "\\end{pmatrix}$$\n",
    "   \n",
    "вырожденная."
   ]
  },
  {
   "cell_type": "markdown",
   "metadata": {},
   "source": [
    "__Решение__"
   ]
  },
  {
   "cell_type": "markdown",
   "metadata": {},
   "source": [
    "Вычтем из второй строки первую строку, умноженную на (-2):   \n",
    "   \n",
    "$$\\begin{pmatrix}\n",
    "-2 & 7 & -3\\\\ \n",
    "4 & -14 & 6\\\\ \n",
    "-3 & 7 & 13\n",
    "\\end{pmatrix} = \n",
    "\\begin{pmatrix}\n",
    "-2 & 7 & -3\\\\ \n",
    "0 & 0 & 0\\\\ \n",
    "-3 & 7 & 13\n",
    "\\end{pmatrix} \\Rightarrow |A| = 0\n",
    "$$ Определитель равен 0 $\\Rightarrow$ матрица вырожденная"
   ]
  },
  {
   "cell_type": "code",
   "execution_count": 20,
   "metadata": {},
   "outputs": [
    {
     "name": "stdout",
     "output_type": "stream",
     "text": [
      "Определитель матрицы А = 0.0\n"
     ]
    }
   ],
   "source": [
    "A = np.array([[-2, 7, -3], [4, -14, 6], [-3, 7, 13]])\n",
    "print(f'Определитель матрицы А = {np.linalg.det(A):.1f}')"
   ]
  },
  {
   "cell_type": "markdown",
   "metadata": {},
   "source": [
    "__4.__ Найти ранг матрицы:\n",
    "\n",
    "   а) $\\begin{pmatrix}\n",
    "1 & 2 & 3\\\\ \n",
    "1 & 1 & 1\\\\ \n",
    "2 & 3 & 4\n",
    "\\end{pmatrix};$\n",
    "\n",
    "   б) $\\begin{pmatrix}\n",
    "0 & 0 & 2 & 1\\\\ \n",
    "0 & 0 & 2 & 2\\\\ \n",
    "0 & 0 & 4 & 3\\\\ \n",
    "2 & 3 & 5 & 6\n",
    "\\end{pmatrix}.$"
   ]
  },
  {
   "cell_type": "markdown",
   "metadata": {},
   "source": [
    "__Решение__"
   ]
  },
  {
   "cell_type": "markdown",
   "metadata": {},
   "source": [
    "Третья строка является суммой первой и второй строк, а значит, ее можно отбросить:\n",
    "$$\\begin{pmatrix}\n",
    "1 & 2 & 3\\\\ \n",
    "1 & 1 & 1\n",
    "\\end{pmatrix}$$\n",
    "Из второй строки вычтем первую:\n",
    "$$\\begin{pmatrix}\n",
    "1 & 2 & 3\\\\ \n",
    "0 & -1 & 2\n",
    "\\end{pmatrix}$$\n",
    "Ранг матрицы = 2"
   ]
  },
  {
   "cell_type": "code",
   "execution_count": 24,
   "metadata": {},
   "outputs": [
    {
     "name": "stdout",
     "output_type": "stream",
     "text": [
      "Ранг матрицы A = 2\n"
     ]
    }
   ],
   "source": [
    "A = np.array([[1, 2, 3], [1, 1, 1], [2, 3, 4]])\n",
    "rank = np.linalg.matrix_rank(A)\n",
    "\n",
    "print(f'Ранг матрицы A = {rank}')"
   ]
  },
  {
   "cell_type": "markdown",
   "metadata": {},
   "source": [
    "б) Третья строка является суммой первой и второй строк, а значит, ее можно отбросить:\n",
    "$$\\begin{pmatrix}\n",
    "0 & 0 & 2 & 1\\\\ \n",
    "0 & 0 & 2 & 2\\\\ \n",
    "2 & 3 & 5 & 6\n",
    "\\end{pmatrix}$$\n",
    "   \n",
    "Определитель минора третьего порядка не равен 0 $\\Rightarrow$ Матрица имеет ранг 3"
   ]
  },
  {
   "cell_type": "code",
   "execution_count": 25,
   "metadata": {},
   "outputs": [
    {
     "name": "stdout",
     "output_type": "stream",
     "text": [
      "Ранг матрицы A = 3\n"
     ]
    }
   ],
   "source": [
    "A = np.array([[0, 0, 2, 1], [0, 0, 2, 2], [0, 0, 4, 3], [2, 3, 5, 6]])\n",
    "rank = np.linalg.matrix_rank(A)\n",
    "\n",
    "print(f'Ранг матрицы A = {rank}')"
   ]
  },
  {
   "cell_type": "code",
   "execution_count": null,
   "metadata": {},
   "outputs": [],
   "source": []
  }
 ],
 "metadata": {
  "kernelspec": {
   "display_name": "Python 3",
   "language": "python",
   "name": "python3"
  },
  "language_info": {
   "codemirror_mode": {
    "name": "ipython",
    "version": 3
   },
   "file_extension": ".py",
   "mimetype": "text/x-python",
   "name": "python",
   "nbconvert_exporter": "python",
   "pygments_lexer": "ipython3",
   "version": "3.7.6"
  }
 },
 "nbformat": 4,
 "nbformat_minor": 4
}
